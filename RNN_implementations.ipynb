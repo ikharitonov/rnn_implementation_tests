{
 "cells": [
  {
   "cell_type": "code",
   "execution_count": 1,
   "id": "2b793a41-d117-4b92-ba5c-7bdadf4148a2",
   "metadata": {
    "tags": []
   },
   "outputs": [],
   "source": [
    "import numpy as np\n",
    "import torch\n",
    "import torch.nn as nn"
   ]
  },
  {
   "cell_type": "markdown",
   "id": "6d2baa77-b94d-47ce-b842-5b48d0bb2a75",
   "metadata": {},
   "source": [
    "## nn.RNN from scratch"
   ]
  },
  {
   "cell_type": "markdown",
   "id": "dc696e22-6e25-49c6-ae61-6101244c2cbe",
   "metadata": {},
   "source": [
    "### 1) Definitions"
   ]
  },
  {
   "cell_type": "code",
   "execution_count": 2,
   "id": "16147827-36f8-4d1d-9833-d110a23ac60d",
   "metadata": {
    "tags": []
   },
   "outputs": [],
   "source": [
    "input_sequence_length = 10\n",
    "hidden_units = 1\n",
    "input_dimension = 1"
   ]
  },
  {
   "cell_type": "code",
   "execution_count": 3,
   "id": "2db45222-f306-45af-b120-9a5bea936f8e",
   "metadata": {
    "tags": []
   },
   "outputs": [
    {
     "name": "stdout",
     "output_type": "stream",
     "text": [
      "torch.Size([1, 10, 1])\n"
     ]
    },
    {
     "data": {
      "text/plain": [
       "tensor([[[ 2.2424],\n",
       "         [ 0.1419],\n",
       "         [ 0.3966],\n",
       "         [ 1.4313],\n",
       "         [ 0.3641],\n",
       "         [-0.6464],\n",
       "         [-0.6286],\n",
       "         [-0.5761],\n",
       "         [ 0.7838],\n",
       "         [ 0.4501]]])"
      ]
     },
     "execution_count": 3,
     "metadata": {},
     "output_type": "execute_result"
    }
   ],
   "source": [
    "rnn_input = torch.randn(1, input_sequence_length, input_dimension)\n",
    "print(rnn_input.shape)\n",
    "rnn_input"
   ]
  },
  {
   "cell_type": "markdown",
   "id": "01518723-c5e5-4705-8790-1303fab922eb",
   "metadata": {
    "tags": []
   },
   "source": [
    "### 2) nn.Parameter implementation"
   ]
  },
  {
   "cell_type": "code",
   "execution_count": 22,
   "id": "75a083d9-9dbf-4cbb-b59b-5e634ee7ad9f",
   "metadata": {
    "tags": []
   },
   "outputs": [],
   "source": [
    "# W_ih = nn.Parameter(torch.randn(hidden_units, input_dimension))\n",
    "# W_hh = nn.Parameter(torch.randn(hidden_units, hidden_units))\n",
    "\n",
    "# b_ih = nn.Parameter(torch.randn(hidden_units))\n",
    "# b_hh = nn.Parameter(torch.randn(hidden_units))\n",
    "\n",
    "W_ih = nn.Parameter(torch.ones(hidden_units, input_dimension))\n",
    "W_hh = nn.Parameter(torch.ones(hidden_units, hidden_units))\n",
    "\n",
    "b_ih = nn.Parameter(torch.ones(hidden_units))\n",
    "b_hh = nn.Parameter(torch.ones(hidden_units))\n",
    "\n",
    "relu = nn.ReLU()"
   ]
  },
  {
   "cell_type": "code",
   "execution_count": 23,
   "id": "6424c9cc-da68-48a0-b220-9f2b414bdfbc",
   "metadata": {
    "tags": []
   },
   "outputs": [],
   "source": [
    "def get_h(h_t_prev, rnn_input_t):\n",
    "    return relu(W_ih.T * rnn_input_t + b_ih + h_t_prev * W_hh.T + b_hh).detach()"
   ]
  },
  {
   "cell_type": "code",
   "execution_count": 31,
   "id": "91cc9af1-2d57-4640-bdd9-a65db16c9e39",
   "metadata": {
    "tags": []
   },
   "outputs": [
    {
     "data": {
      "text/plain": [
       "array([[ 4.242429],\n",
       "       [ 6.38429 ],\n",
       "       [ 8.780897],\n",
       "       [12.212207],\n",
       "       [14.576307],\n",
       "       [15.929882],\n",
       "       [17.301323],\n",
       "       [18.72527 ],\n",
       "       [21.509113],\n",
       "       [23.959234]], dtype=float32)"
      ]
     },
     "execution_count": 31,
     "metadata": {},
     "output_type": "execute_result"
    }
   ],
   "source": [
    "h_array = [0]\n",
    "for i in range(input_sequence_length):\n",
    "    h_array.append(get_h(h_array[-1], rnn_input[:,i]))\n",
    "h_array.pop(0)\n",
    "output1 = np.array([x.detach()[0] for x in h_array])\n",
    "output1"
   ]
  },
  {
   "cell_type": "markdown",
   "id": "b0f2805e-268b-4a6d-baac-1ec72c60fdcb",
   "metadata": {
    "jp-MarkdownHeadingCollapsed": true,
    "tags": []
   },
   "source": [
    "### 3) nn.Linear implementation"
   ]
  },
  {
   "cell_type": "code",
   "execution_count": 7,
   "id": "6a1f516f-18ad-4a6c-b250-dede6d7808d2",
   "metadata": {
    "tags": []
   },
   "outputs": [],
   "source": [
    "class RNN2(nn.Module):\n",
    "    def __init__(self, input_size, hidden_size):\n",
    "        super(RNN2, self).__init__()\n",
    "\n",
    "        self.hidden_size = hidden_size\n",
    "\n",
    "        self.i2h = nn.Linear(input_size, hidden_size)\n",
    "        self.h2h = nn.Linear(hidden_size, hidden_size)\n",
    "        \n",
    "        self.i2h.weight.data = torch.ones(self.i2h.weight.shape)\n",
    "        self.i2h.bias.data = torch.ones(self.i2h.bias.shape)\n",
    "        \n",
    "        self.h2h.weight.data = torch.ones(self.h2h.weight.shape)\n",
    "        self.h2h.bias.data = torch.ones(self.h2h.bias.shape)\n",
    "        \n",
    "        # self.h2o = nn.Linear(hidden_size, output_size)\n",
    "        self.relu = nn.ReLU()\n",
    "\n",
    "    def forward(self, input, hidden):\n",
    "        # combined = torch.cat((input, hidden), 1)\n",
    "        i2h = self.i2h(input)\n",
    "        h2h = self.h2h(hidden)\n",
    "        # output = self.h2o(hidden)\n",
    "        output = self.relu(i2h + h2h)\n",
    "        return output\n",
    "\n",
    "    def initHidden(self):\n",
    "        return torch.zeros(1, self.hidden_size)\n",
    "\n",
    "n_hidden = 1\n",
    "rnn2 = RNN2(input_dimension, hidden_units)"
   ]
  },
  {
   "cell_type": "code",
   "execution_count": 32,
   "id": "6cc6b2be-4081-4234-b901-4ddcbf9ebe01",
   "metadata": {
    "tags": []
   },
   "outputs": [
    {
     "data": {
      "text/plain": [
       "array([[ 4.242429],\n",
       "       [ 6.38429 ],\n",
       "       [ 8.780897],\n",
       "       [12.212207],\n",
       "       [14.576307],\n",
       "       [15.929882],\n",
       "       [17.301323],\n",
       "       [18.72527 ],\n",
       "       [21.509113],\n",
       "       [23.959234]], dtype=float32)"
      ]
     },
     "execution_count": 32,
     "metadata": {},
     "output_type": "execute_result"
    }
   ],
   "source": [
    "hidden = rnn2.initHidden()\n",
    "\n",
    "rnn2.zero_grad()\n",
    "\n",
    "output = []\n",
    "\n",
    "for i in range(input_sequence_length):\n",
    "    hidden = rnn2(rnn_input[:,i], hidden)\n",
    "    output.append(hidden.detach()[0])\n",
    "output2 = np.array(output)\n",
    "output2"
   ]
  },
  {
   "cell_type": "markdown",
   "id": "6e9c19b2-6a3e-4651-b490-3c24935d156c",
   "metadata": {
    "tags": []
   },
   "source": [
    "### 4) nn.RNN implementation"
   ]
  },
  {
   "cell_type": "code",
   "execution_count": 9,
   "id": "16283e66-4b15-4db8-a19a-2d63d8fc4abf",
   "metadata": {
    "tags": []
   },
   "outputs": [],
   "source": [
    "rnn = nn.RNN(input_size=input_dimension, hidden_size=hidden_units, num_layers=1, batch_first=True, nonlinearity='relu')\n",
    "\n",
    "rnn.weight_ih_l0.data = torch.ones(rnn.weight_ih_l0.shape)\n",
    "rnn.bias_ih_l0.data = torch.ones(rnn.bias_ih_l0.shape)\n",
    "rnn.weight_hh_l0.data = torch.ones(rnn.weight_hh_l0.shape)\n",
    "rnn.bias_hh_l0.data = torch.ones(rnn.bias_hh_l0.shape)"
   ]
  },
  {
   "cell_type": "code",
   "execution_count": 10,
   "id": "add2743a-727a-4ebd-ad3b-1a6b15f035da",
   "metadata": {
    "tags": []
   },
   "outputs": [
    {
     "data": {
      "text/plain": [
       "torch.Size([1, 1, 1])"
      ]
     },
     "execution_count": 10,
     "metadata": {},
     "output_type": "execute_result"
    }
   ],
   "source": [
    "# h_0 = torch.tensor([[[h_array[0]]]], dtype=torch.float32)\n",
    "h_0 = torch.zeros((1, 1, hidden_units), dtype=torch.float32)\n",
    "h_0.shape"
   ]
  },
  {
   "cell_type": "code",
   "execution_count": 33,
   "id": "23b7db5a-115a-4c70-84a6-09c0a275d800",
   "metadata": {
    "tags": []
   },
   "outputs": [
    {
     "data": {
      "text/plain": [
       "array([[[ 4.242429],\n",
       "        [ 6.38429 ],\n",
       "        [ 8.780897],\n",
       "        [12.212207],\n",
       "        [14.576307],\n",
       "        [15.929882],\n",
       "        [17.301323],\n",
       "        [18.72527 ],\n",
       "        [21.509113],\n",
       "        [23.959234]]], dtype=float32)"
      ]
     },
     "execution_count": 33,
     "metadata": {},
     "output_type": "execute_result"
    }
   ],
   "source": [
    "output = rnn(rnn_input, h_0)\n",
    "output3 = output[0].detach().numpy()\n",
    "output3"
   ]
  },
  {
   "cell_type": "code",
   "execution_count": null,
   "id": "9accab27-6777-4985-979e-f93f9b0a5754",
   "metadata": {},
   "outputs": [],
   "source": []
  },
  {
   "cell_type": "code",
   "execution_count": 38,
   "id": "f92cc98b-46b3-476b-a0ef-7cc7f937a533",
   "metadata": {
    "tags": []
   },
   "outputs": [
    {
     "data": {
      "text/plain": [
       "array([[ True],\n",
       "       [ True],\n",
       "       [ True],\n",
       "       [ True],\n",
       "       [ True],\n",
       "       [ True],\n",
       "       [ True],\n",
       "       [ True],\n",
       "       [ True],\n",
       "       [ True]])"
      ]
     },
     "execution_count": 38,
     "metadata": {},
     "output_type": "execute_result"
    }
   ],
   "source": [
    "output1 == output2"
   ]
  },
  {
   "cell_type": "code",
   "execution_count": 39,
   "id": "e3725b36-a7d3-4114-a2e3-080529b4e469",
   "metadata": {
    "tags": []
   },
   "outputs": [
    {
     "data": {
      "text/plain": [
       "array([[[ True],\n",
       "        [ True],\n",
       "        [ True],\n",
       "        [ True],\n",
       "        [ True],\n",
       "        [ True],\n",
       "        [ True],\n",
       "        [ True],\n",
       "        [ True],\n",
       "        [ True]]])"
      ]
     },
     "execution_count": 39,
     "metadata": {},
     "output_type": "execute_result"
    }
   ],
   "source": [
    "output1 == output3"
   ]
  },
  {
   "cell_type": "code",
   "execution_count": null,
   "id": "27feacfe-9a3b-49ea-ab63-dc6deaae32ff",
   "metadata": {},
   "outputs": [],
   "source": []
  }
 ],
 "metadata": {
  "kernelspec": {
   "display_name": "Python [conda env:jh_torch]",
   "language": "python",
   "name": "conda-env-jh_torch-py"
  },
  "language_info": {
   "codemirror_mode": {
    "name": "ipython",
    "version": 3
   },
   "file_extension": ".py",
   "mimetype": "text/x-python",
   "name": "python",
   "nbconvert_exporter": "python",
   "pygments_lexer": "ipython3",
   "version": "3.11.6"
  }
 },
 "nbformat": 4,
 "nbformat_minor": 5
}
